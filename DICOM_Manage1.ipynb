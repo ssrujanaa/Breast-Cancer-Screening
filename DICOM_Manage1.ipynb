{
 "cells": [
  {
   "cell_type": "code",
   "execution_count": 1,
   "metadata": {
    "collapsed": true
   },
   "outputs": [],
   "source": [
    "%matplotlib inline\n",
    "import numpy as np # linear algebra\n",
    "import pandas as pd # data processing, CSV file I/O (e.g. pd.read_csv)\n",
    "import dicom as pdicom\n",
    "import os\n",
    "import scipy.ndimage\n",
    "import matplotlib.pyplot as plt\n",
    "import glob\n",
    "import cv2\n",
    "\n",
    "from skimage import measure, morphology\n",
    "from mpl_toolkits.mplot3d.art3d import Poly3DCollection\n"
   ]
  },
  {
   "cell_type": "code",
   "execution_count": 2,
   "metadata": {
    "collapsed": true
   },
   "outputs": [],
   "source": [
    "data_dir='DOI'\n",
    "patients = os.listdir(data_dir)\n",
    "patients.sort()"
   ]
  },
  {
   "cell_type": "code",
   "execution_count": 3,
   "metadata": {
    "collapsed": true
   },
   "outputs": [],
   "source": [
    "labels_df= pd.read_csv('calc_case_description_test_set.csv',index_col=0)"
   ]
  },
  {
   "cell_type": "code",
   "execution_count": 4,
   "metadata": {},
   "outputs": [
    {
     "data": {
      "text/html": [
       "<div>\n",
       "<style>\n",
       "    .dataframe thead tr:only-child th {\n",
       "        text-align: right;\n",
       "    }\n",
       "\n",
       "    .dataframe thead th {\n",
       "        text-align: left;\n",
       "    }\n",
       "\n",
       "    .dataframe tbody tr th {\n",
       "        vertical-align: top;\n",
       "    }\n",
       "</style>\n",
       "<table border=\"1\" class=\"dataframe\">\n",
       "  <thead>\n",
       "    <tr style=\"text-align: right;\">\n",
       "      <th></th>\n",
       "      <th>breast density</th>\n",
       "      <th>left or right breast</th>\n",
       "      <th>image view</th>\n",
       "      <th>abnormality id</th>\n",
       "      <th>abnormality type</th>\n",
       "      <th>calc type</th>\n",
       "      <th>calc distribution</th>\n",
       "      <th>assessment</th>\n",
       "      <th>pathology</th>\n",
       "      <th>subtlety</th>\n",
       "      <th>image file path</th>\n",
       "      <th>cropped image file path</th>\n",
       "      <th>ROI mask file path</th>\n",
       "    </tr>\n",
       "    <tr>\n",
       "      <th>patient_id</th>\n",
       "      <th></th>\n",
       "      <th></th>\n",
       "      <th></th>\n",
       "      <th></th>\n",
       "      <th></th>\n",
       "      <th></th>\n",
       "      <th></th>\n",
       "      <th></th>\n",
       "      <th></th>\n",
       "      <th></th>\n",
       "      <th></th>\n",
       "      <th></th>\n",
       "      <th></th>\n",
       "    </tr>\n",
       "  </thead>\n",
       "  <tbody>\n",
       "    <tr>\n",
       "      <th>P_00038</th>\n",
       "      <td>2</td>\n",
       "      <td>LEFT</td>\n",
       "      <td>CC</td>\n",
       "      <td>1</td>\n",
       "      <td>calcification</td>\n",
       "      <td>PUNCTATE-PLEOMORPHIC</td>\n",
       "      <td>CLUSTERED</td>\n",
       "      <td>4</td>\n",
       "      <td>BENIGN</td>\n",
       "      <td>2</td>\n",
       "      <td>Calc-Test_P_00038_LEFT_CC/1.3.6.1.4.1.9590.100...</td>\n",
       "      <td>Calc-Test_P_00038_LEFT_CC_1/1.3.6.1.4.1.9590.1...</td>\n",
       "      <td>Calc-Test_P_00038_LEFT_CC_1/1.3.6.1.4.1.9590.1...</td>\n",
       "    </tr>\n",
       "    <tr>\n",
       "      <th>P_00038</th>\n",
       "      <td>2</td>\n",
       "      <td>LEFT</td>\n",
       "      <td>MLO</td>\n",
       "      <td>1</td>\n",
       "      <td>calcification</td>\n",
       "      <td>PUNCTATE-PLEOMORPHIC</td>\n",
       "      <td>CLUSTERED</td>\n",
       "      <td>4</td>\n",
       "      <td>BENIGN</td>\n",
       "      <td>2</td>\n",
       "      <td>Calc-Test_P_00038_LEFT_MLO/1.3.6.1.4.1.9590.10...</td>\n",
       "      <td>Calc-Test_P_00038_LEFT_MLO_1/1.3.6.1.4.1.9590....</td>\n",
       "      <td>Calc-Test_P_00038_LEFT_MLO_1/1.3.6.1.4.1.9590....</td>\n",
       "    </tr>\n",
       "    <tr>\n",
       "      <th>P_00038</th>\n",
       "      <td>2</td>\n",
       "      <td>RIGHT</td>\n",
       "      <td>CC</td>\n",
       "      <td>1</td>\n",
       "      <td>calcification</td>\n",
       "      <td>VASCULAR</td>\n",
       "      <td>NaN</td>\n",
       "      <td>2</td>\n",
       "      <td>BENIGN_WITHOUT_CALLBACK</td>\n",
       "      <td>5</td>\n",
       "      <td>Calc-Test_P_00038_RIGHT_CC/1.3.6.1.4.1.9590.10...</td>\n",
       "      <td>Calc-Test_P_00038_RIGHT_CC_1/1.3.6.1.4.1.9590....</td>\n",
       "      <td>Calc-Test_P_00038_RIGHT_CC_1/1.3.6.1.4.1.9590....</td>\n",
       "    </tr>\n",
       "    <tr>\n",
       "      <th>P_00038</th>\n",
       "      <td>2</td>\n",
       "      <td>RIGHT</td>\n",
       "      <td>CC</td>\n",
       "      <td>2</td>\n",
       "      <td>calcification</td>\n",
       "      <td>VASCULAR</td>\n",
       "      <td>NaN</td>\n",
       "      <td>2</td>\n",
       "      <td>BENIGN_WITHOUT_CALLBACK</td>\n",
       "      <td>5</td>\n",
       "      <td>Calc-Test_P_00038_RIGHT_CC/1.3.6.1.4.1.9590.10...</td>\n",
       "      <td>Calc-Test_P_00038_RIGHT_CC_2/1.3.6.1.4.1.9590....</td>\n",
       "      <td>Calc-Test_P_00038_RIGHT_CC_2/1.3.6.1.4.1.9590....</td>\n",
       "    </tr>\n",
       "    <tr>\n",
       "      <th>P_00038</th>\n",
       "      <td>2</td>\n",
       "      <td>RIGHT</td>\n",
       "      <td>MLO</td>\n",
       "      <td>1</td>\n",
       "      <td>calcification</td>\n",
       "      <td>VASCULAR</td>\n",
       "      <td>NaN</td>\n",
       "      <td>2</td>\n",
       "      <td>BENIGN_WITHOUT_CALLBACK</td>\n",
       "      <td>5</td>\n",
       "      <td>Calc-Test_P_00038_RIGHT_MLO/1.3.6.1.4.1.9590.1...</td>\n",
       "      <td>Calc-Test_P_00038_RIGHT_MLO_1/1.3.6.1.4.1.9590...</td>\n",
       "      <td>Calc-Test_P_00038_RIGHT_MLO_1/1.3.6.1.4.1.9590...</td>\n",
       "    </tr>\n",
       "    <tr>\n",
       "      <th>P_00038</th>\n",
       "      <td>2</td>\n",
       "      <td>RIGHT</td>\n",
       "      <td>MLO</td>\n",
       "      <td>2</td>\n",
       "      <td>calcification</td>\n",
       "      <td>VASCULAR</td>\n",
       "      <td>NaN</td>\n",
       "      <td>2</td>\n",
       "      <td>BENIGN_WITHOUT_CALLBACK</td>\n",
       "      <td>5</td>\n",
       "      <td>Calc-Test_P_00038_RIGHT_MLO/1.3.6.1.4.1.9590.1...</td>\n",
       "      <td>Calc-Test_P_00038_RIGHT_MLO_2/1.3.6.1.4.1.9590...</td>\n",
       "      <td>Calc-Test_P_00038_RIGHT_MLO_2/1.3.6.1.4.1.9590...</td>\n",
       "    </tr>\n",
       "    <tr>\n",
       "      <th>P_00041</th>\n",
       "      <td>1</td>\n",
       "      <td>LEFT</td>\n",
       "      <td>CC</td>\n",
       "      <td>2</td>\n",
       "      <td>calcification</td>\n",
       "      <td>LUCENT_CENTER</td>\n",
       "      <td>NaN</td>\n",
       "      <td>2</td>\n",
       "      <td>BENIGN_WITHOUT_CALLBACK</td>\n",
       "      <td>5</td>\n",
       "      <td>Calc-Test_P_00041_LEFT_CC/1.3.6.1.4.1.9590.100...</td>\n",
       "      <td>Calc-Test_P_00041_LEFT_CC_2/1.3.6.1.4.1.9590.1...</td>\n",
       "      <td>Calc-Test_P_00041_LEFT_CC_2/1.3.6.1.4.1.9590.1...</td>\n",
       "    </tr>\n",
       "    <tr>\n",
       "      <th>P_00041</th>\n",
       "      <td>1</td>\n",
       "      <td>LEFT</td>\n",
       "      <td>MLO</td>\n",
       "      <td>2</td>\n",
       "      <td>calcification</td>\n",
       "      <td>LUCENT_CENTER</td>\n",
       "      <td>NaN</td>\n",
       "      <td>2</td>\n",
       "      <td>BENIGN_WITHOUT_CALLBACK</td>\n",
       "      <td>5</td>\n",
       "      <td>Calc-Test_P_00041_LEFT_MLO/1.3.6.1.4.1.9590.10...</td>\n",
       "      <td>Calc-Test_P_00041_LEFT_MLO_2/1.3.6.1.4.1.9590....</td>\n",
       "      <td>Calc-Test_P_00041_LEFT_MLO_2/1.3.6.1.4.1.9590....</td>\n",
       "    </tr>\n",
       "    <tr>\n",
       "      <th>P_00077</th>\n",
       "      <td>2</td>\n",
       "      <td>LEFT</td>\n",
       "      <td>CC</td>\n",
       "      <td>1</td>\n",
       "      <td>calcification</td>\n",
       "      <td>ROUND_AND_REGULAR</td>\n",
       "      <td>NaN</td>\n",
       "      <td>2</td>\n",
       "      <td>BENIGN_WITHOUT_CALLBACK</td>\n",
       "      <td>3</td>\n",
       "      <td>Calc-Test_P_00077_LEFT_CC/1.3.6.1.4.1.9590.100...</td>\n",
       "      <td>Calc-Test_P_00077_LEFT_CC_1/1.3.6.1.4.1.9590.1...</td>\n",
       "      <td>Calc-Test_P_00077_LEFT_CC_1/1.3.6.1.4.1.9590.1...</td>\n",
       "    </tr>\n",
       "    <tr>\n",
       "      <th>P_00077</th>\n",
       "      <td>2</td>\n",
       "      <td>LEFT</td>\n",
       "      <td>MLO</td>\n",
       "      <td>1</td>\n",
       "      <td>calcification</td>\n",
       "      <td>ROUND_AND_REGULAR</td>\n",
       "      <td>NaN</td>\n",
       "      <td>2</td>\n",
       "      <td>BENIGN_WITHOUT_CALLBACK</td>\n",
       "      <td>3</td>\n",
       "      <td>Calc-Test_P_00077_LEFT_MLO/1.3.6.1.4.1.9590.10...</td>\n",
       "      <td>Calc-Test_P_00077_LEFT_MLO_1/1.3.6.1.4.1.9590....</td>\n",
       "      <td>Calc-Test_P_00077_LEFT_MLO_1/1.3.6.1.4.1.9590....</td>\n",
       "    </tr>\n",
       "  </tbody>\n",
       "</table>\n",
       "</div>"
      ],
      "text/plain": [
       "            breast density left or right breast image view  abnormality id  \\\n",
       "patient_id                                                                   \n",
       "P_00038                  2                 LEFT         CC               1   \n",
       "P_00038                  2                 LEFT        MLO               1   \n",
       "P_00038                  2                RIGHT         CC               1   \n",
       "P_00038                  2                RIGHT         CC               2   \n",
       "P_00038                  2                RIGHT        MLO               1   \n",
       "P_00038                  2                RIGHT        MLO               2   \n",
       "P_00041                  1                 LEFT         CC               2   \n",
       "P_00041                  1                 LEFT        MLO               2   \n",
       "P_00077                  2                 LEFT         CC               1   \n",
       "P_00077                  2                 LEFT        MLO               1   \n",
       "\n",
       "           abnormality type             calc type calc distribution  \\\n",
       "patient_id                                                            \n",
       "P_00038       calcification  PUNCTATE-PLEOMORPHIC         CLUSTERED   \n",
       "P_00038       calcification  PUNCTATE-PLEOMORPHIC         CLUSTERED   \n",
       "P_00038       calcification              VASCULAR               NaN   \n",
       "P_00038       calcification              VASCULAR               NaN   \n",
       "P_00038       calcification              VASCULAR               NaN   \n",
       "P_00038       calcification              VASCULAR               NaN   \n",
       "P_00041       calcification         LUCENT_CENTER               NaN   \n",
       "P_00041       calcification         LUCENT_CENTER               NaN   \n",
       "P_00077       calcification     ROUND_AND_REGULAR               NaN   \n",
       "P_00077       calcification     ROUND_AND_REGULAR               NaN   \n",
       "\n",
       "            assessment                pathology  subtlety  \\\n",
       "patient_id                                                  \n",
       "P_00038              4                   BENIGN         2   \n",
       "P_00038              4                   BENIGN         2   \n",
       "P_00038              2  BENIGN_WITHOUT_CALLBACK         5   \n",
       "P_00038              2  BENIGN_WITHOUT_CALLBACK         5   \n",
       "P_00038              2  BENIGN_WITHOUT_CALLBACK         5   \n",
       "P_00038              2  BENIGN_WITHOUT_CALLBACK         5   \n",
       "P_00041              2  BENIGN_WITHOUT_CALLBACK         5   \n",
       "P_00041              2  BENIGN_WITHOUT_CALLBACK         5   \n",
       "P_00077              2  BENIGN_WITHOUT_CALLBACK         3   \n",
       "P_00077              2  BENIGN_WITHOUT_CALLBACK         3   \n",
       "\n",
       "                                              image file path  \\\n",
       "patient_id                                                      \n",
       "P_00038     Calc-Test_P_00038_LEFT_CC/1.3.6.1.4.1.9590.100...   \n",
       "P_00038     Calc-Test_P_00038_LEFT_MLO/1.3.6.1.4.1.9590.10...   \n",
       "P_00038     Calc-Test_P_00038_RIGHT_CC/1.3.6.1.4.1.9590.10...   \n",
       "P_00038     Calc-Test_P_00038_RIGHT_CC/1.3.6.1.4.1.9590.10...   \n",
       "P_00038     Calc-Test_P_00038_RIGHT_MLO/1.3.6.1.4.1.9590.1...   \n",
       "P_00038     Calc-Test_P_00038_RIGHT_MLO/1.3.6.1.4.1.9590.1...   \n",
       "P_00041     Calc-Test_P_00041_LEFT_CC/1.3.6.1.4.1.9590.100...   \n",
       "P_00041     Calc-Test_P_00041_LEFT_MLO/1.3.6.1.4.1.9590.10...   \n",
       "P_00077     Calc-Test_P_00077_LEFT_CC/1.3.6.1.4.1.9590.100...   \n",
       "P_00077     Calc-Test_P_00077_LEFT_MLO/1.3.6.1.4.1.9590.10...   \n",
       "\n",
       "                                      cropped image file path  \\\n",
       "patient_id                                                      \n",
       "P_00038     Calc-Test_P_00038_LEFT_CC_1/1.3.6.1.4.1.9590.1...   \n",
       "P_00038     Calc-Test_P_00038_LEFT_MLO_1/1.3.6.1.4.1.9590....   \n",
       "P_00038     Calc-Test_P_00038_RIGHT_CC_1/1.3.6.1.4.1.9590....   \n",
       "P_00038     Calc-Test_P_00038_RIGHT_CC_2/1.3.6.1.4.1.9590....   \n",
       "P_00038     Calc-Test_P_00038_RIGHT_MLO_1/1.3.6.1.4.1.9590...   \n",
       "P_00038     Calc-Test_P_00038_RIGHT_MLO_2/1.3.6.1.4.1.9590...   \n",
       "P_00041     Calc-Test_P_00041_LEFT_CC_2/1.3.6.1.4.1.9590.1...   \n",
       "P_00041     Calc-Test_P_00041_LEFT_MLO_2/1.3.6.1.4.1.9590....   \n",
       "P_00077     Calc-Test_P_00077_LEFT_CC_1/1.3.6.1.4.1.9590.1...   \n",
       "P_00077     Calc-Test_P_00077_LEFT_MLO_1/1.3.6.1.4.1.9590....   \n",
       "\n",
       "                                           ROI mask file path  \n",
       "patient_id                                                     \n",
       "P_00038     Calc-Test_P_00038_LEFT_CC_1/1.3.6.1.4.1.9590.1...  \n",
       "P_00038     Calc-Test_P_00038_LEFT_MLO_1/1.3.6.1.4.1.9590....  \n",
       "P_00038     Calc-Test_P_00038_RIGHT_CC_1/1.3.6.1.4.1.9590....  \n",
       "P_00038     Calc-Test_P_00038_RIGHT_CC_2/1.3.6.1.4.1.9590....  \n",
       "P_00038     Calc-Test_P_00038_RIGHT_MLO_1/1.3.6.1.4.1.9590...  \n",
       "P_00038     Calc-Test_P_00038_RIGHT_MLO_2/1.3.6.1.4.1.9590...  \n",
       "P_00041     Calc-Test_P_00041_LEFT_CC_2/1.3.6.1.4.1.9590.1...  \n",
       "P_00041     Calc-Test_P_00041_LEFT_MLO_2/1.3.6.1.4.1.9590....  \n",
       "P_00077     Calc-Test_P_00077_LEFT_CC_1/1.3.6.1.4.1.9590.1...  \n",
       "P_00077     Calc-Test_P_00077_LEFT_MLO_1/1.3.6.1.4.1.9590....  "
      ]
     },
     "execution_count": 4,
     "metadata": {},
     "output_type": "execute_result"
    }
   ],
   "source": [
    "labels_df.head(10)"
   ]
  },
  {
   "cell_type": "code",
   "execution_count": null,
   "metadata": {},
   "outputs": [
    {
     "name": "stdout",
     "output_type": "stream",
     "text": [
      "<class 'pandas.core.frame.DataFrame'>\n",
      "Index: 326 entries, P_00038 to P_02501\n",
      "Data columns (total 13 columns):\n",
      "breast density             326 non-null int64\n",
      "left or right breast       326 non-null object\n",
      "image view                 326 non-null object\n",
      "abnormality id             326 non-null int64\n",
      "abnormality type           326 non-null object\n",
      "calc type                  322 non-null object\n",
      "calc distribution          263 non-null object\n",
      "assessment                 326 non-null int64\n",
      "pathology                  326 non-null object\n",
      "subtlety                   326 non-null int64\n",
      "image file path            326 non-null object\n",
      "cropped image file path    326 non-null object\n",
      "ROI mask file path         326 non-null object\n",
      "dtypes: int64(4), object(9)\n",
      "memory usage: 35.7+ KB\n"
     ]
    }
   ],
   "source": [
    "labels_df.info()"
   ]
  },
  {
   "cell_type": "code",
   "execution_count": null,
   "metadata": {
    "collapsed": true
   },
   "outputs": [],
   "source": [
    "\n",
    "x=labels_df.groupby('patient_id')['ROI mask file path'].unique()[43]\n",
    "loc=data_dir+'/'+x[0]\n",
    "redf=pdicom.read_file(loc[:])\n",
    "\n",
    "# output=(int(input*255)/65535).astype(uint8)\n",
    "img=((redf.pixel_array/65535)*255).astype(np.uint8)\n",
    "\n",
    "#plt.imshow(img,cmap=plt.cm.bone)\n",
    "cv2.imshow('im1',img)\n",
    "cv2.imshow('im2',redf.pixel_array)\n",
    "cv2.waitKey(0)\n",
    "cv2.destroyAllWindows()\n",
    "cv2.waitKey(0)\n",
    "#plt.show()\n",
    "\n",
    "print(redf)\n",
    "#ConstPixelDims=(int(redf.Rows),int(redf.Columns),len(x))\n",
    "#ConstPixelSpacing=(float(redf.PixelSpacing[0]),float(redf.PixelSpacing[1]),\n",
    "              #     float(redf.SliceThickness))"
   ]
  },
  {
   "cell_type": "code",
   "execution_count": null,
   "metadata": {
    "collapsed": true
   },
   "outputs": [],
   "source": []
  },
  {
   "cell_type": "code",
   "execution_count": 4,
   "metadata": {},
   "outputs": [
    {
     "data": {
      "text/plain": [
       "array([ 'Calc-Test_P_00038_LEFT_CC_1/1.3.6.1.4.1.9590.100.1.2.161465562211359959230647609981488894942/1.3.6.1.4.1.9590.100.1.2.419081637812053404913157930753972718515/000001.dcm\\n',\n",
       "       'Calc-Test_P_00038_LEFT_MLO_1/1.3.6.1.4.1.9590.100.1.2.29112199613143138535387754440942211739/1.3.6.1.4.1.9590.100.1.2.188613955710170417803011787532523988680/000001.dcm\\n',\n",
       "       'Calc-Test_P_00038_RIGHT_CC_1/1.3.6.1.4.1.9590.100.1.2.200764632211227648028305709420627883105/1.3.6.1.4.1.9590.100.1.2.244876997513875090239564803900035037851/000001.dcm\\n',\n",
       "       'Calc-Test_P_00038_RIGHT_CC_2/1.3.6.1.4.1.9590.100.1.2.248538452013626298441249276382187367143/1.3.6.1.4.1.9590.100.1.2.360550081712464813321995483083632007570/000001.dcm\\n',\n",
       "       'Calc-Test_P_00038_RIGHT_MLO_1/1.3.6.1.4.1.9590.100.1.2.348569460311013218440657632223354965172/1.3.6.1.4.1.9590.100.1.2.126295284812046209819441424913058621714/000001.dcm\\n',\n",
       "       'Calc-Test_P_00038_RIGHT_MLO_2/1.3.6.1.4.1.9590.100.1.2.57362695012780927721008884783926968463/1.3.6.1.4.1.9590.100.1.2.326152312412979080929913875463824504551/000001.dcm\\n'], dtype=object)"
      ]
     },
     "execution_count": 4,
     "metadata": {},
     "output_type": "execute_result"
    }
   ],
   "source": [
    "x=labels_df.groupby('patient_id')['cropped image file path'].unique()[0]\n",
    "x"
   ]
  },
  {
   "cell_type": "code",
   "execution_count": 7,
   "metadata": {},
   "outputs": [
    {
     "name": "stdout",
     "output_type": "stream",
     "text": [
      "[  1.98860112e-01   3.44508502e+00   9.99420047e-01   2.97028344e+03\n",
      "   6.85315088e-01   9.84030278e+01   1.18776887e+04   5.55824358e+00\n",
      "   6.72595689e+00   1.42448462e-03   1.93620373e+00  -6.46145535e-01\n",
      "   9.99135421e-01]\n"
     ]
    },
    {
     "ename": "KeyboardInterrupt",
     "evalue": "",
     "output_type": "error",
     "traceback": [
      "\u001b[0;31m---------------------------------------------------------------------------\u001b[0m",
      "\u001b[0;31mKeyboardInterrupt\u001b[0m                         Traceback (most recent call last)",
      "\u001b[0;32m<ipython-input-7-dc9e7388f1ab>\u001b[0m in \u001b[0;36m<module>\u001b[0;34m()\u001b[0m\n\u001b[1;32m     10\u001b[0m \u001b[0mprint\u001b[0m\u001b[0;34m(\u001b[0m\u001b[0mmh\u001b[0m\u001b[0;34m.\u001b[0m\u001b[0mfeatures\u001b[0m\u001b[0;34m.\u001b[0m\u001b[0mharalick\u001b[0m\u001b[0;34m(\u001b[0m\u001b[0mimg\u001b[0m\u001b[0;34m)\u001b[0m\u001b[0;34m.\u001b[0m\u001b[0mmean\u001b[0m\u001b[0;34m(\u001b[0m\u001b[0;36m0\u001b[0m\u001b[0;34m)\u001b[0m\u001b[0;34m)\u001b[0m\u001b[0;34m\u001b[0m\u001b[0m\n\u001b[1;32m     11\u001b[0m \u001b[0mimg\u001b[0m\u001b[0;34m=\u001b[0m\u001b[0mredf\u001b[0m\u001b[0;34m.\u001b[0m\u001b[0mpixel_array\u001b[0m\u001b[0;34m\u001b[0m\u001b[0m\n\u001b[0;32m---> 12\u001b[0;31m \u001b[0mprint\u001b[0m\u001b[0;34m(\u001b[0m\u001b[0mmh\u001b[0m\u001b[0;34m.\u001b[0m\u001b[0mfeatures\u001b[0m\u001b[0;34m.\u001b[0m\u001b[0mharalick\u001b[0m\u001b[0;34m(\u001b[0m\u001b[0mimg\u001b[0m\u001b[0;34m)\u001b[0m\u001b[0;34m.\u001b[0m\u001b[0mmean\u001b[0m\u001b[0;34m(\u001b[0m\u001b[0;36m0\u001b[0m\u001b[0;34m)\u001b[0m\u001b[0;34m)\u001b[0m\u001b[0;34m\u001b[0m\u001b[0m\n\u001b[0m",
      "\u001b[0;32m~/anaconda3/lib/python3.6/site-packages/mahotas/features/texture.py\u001b[0m in \u001b[0;36mharalick\u001b[0;34m(f, ignore_zeros, preserve_haralick_bug, compute_14th_feature, return_mean, return_mean_ptp, use_x_minus_y_variance, distance)\u001b[0m\n\u001b[1;32m    145\u001b[0m                         \u001b[0mreturn_mean\u001b[0m\u001b[0;34m=\u001b[0m\u001b[0mreturn_mean\u001b[0m\u001b[0;34m,\u001b[0m\u001b[0;34m\u001b[0m\u001b[0m\n\u001b[1;32m    146\u001b[0m                         \u001b[0mreturn_mean_ptp\u001b[0m\u001b[0;34m=\u001b[0m\u001b[0mreturn_mean_ptp\u001b[0m\u001b[0;34m,\u001b[0m\u001b[0;34m\u001b[0m\u001b[0m\n\u001b[0;32m--> 147\u001b[0;31m                         \u001b[0muse_x_minus_y_variance\u001b[0m\u001b[0;34m=\u001b[0m\u001b[0muse_x_minus_y_variance\u001b[0m\u001b[0;34m,\u001b[0m\u001b[0;34m\u001b[0m\u001b[0m\n\u001b[0m\u001b[1;32m    148\u001b[0m                         )\n\u001b[1;32m    149\u001b[0m \u001b[0;34m\u001b[0m\u001b[0m\n",
      "\u001b[0;32m~/anaconda3/lib/python3.6/site-packages/mahotas/features/texture.py\u001b[0m in \u001b[0;36mharalick_features\u001b[0;34m(cmats, ignore_zeros, preserve_haralick_bug, compute_14th_feature, return_mean, return_mean_ptp, use_x_minus_y_variance)\u001b[0m\n\u001b[1;32m    244\u001b[0m         \u001b[0;32mraise\u001b[0m \u001b[0mValueError\u001b[0m\u001b[0;34m(\u001b[0m\u001b[0;34m\"mahotas.haralick_features: Cannot set both `return_mean` and `return_mean_ptp`\"\u001b[0m\u001b[0;34m)\u001b[0m\u001b[0;34m\u001b[0m\u001b[0m\n\u001b[1;32m    245\u001b[0m     \u001b[0mfeatures\u001b[0m \u001b[0;34m=\u001b[0m \u001b[0;34m[\u001b[0m\u001b[0;34m]\u001b[0m\u001b[0;34m\u001b[0m\u001b[0m\n\u001b[0;32m--> 246\u001b[0;31m     \u001b[0;32mfor\u001b[0m \u001b[0mcmat\u001b[0m \u001b[0;32min\u001b[0m \u001b[0mcmats\u001b[0m\u001b[0;34m:\u001b[0m\u001b[0;34m\u001b[0m\u001b[0m\n\u001b[0m\u001b[1;32m    247\u001b[0m         \u001b[0mfeats\u001b[0m \u001b[0;34m=\u001b[0m \u001b[0mnp\u001b[0m\u001b[0;34m.\u001b[0m\u001b[0mzeros\u001b[0m\u001b[0;34m(\u001b[0m\u001b[0;36m13\u001b[0m \u001b[0;34m+\u001b[0m \u001b[0mbool\u001b[0m\u001b[0;34m(\u001b[0m\u001b[0mcompute_14th_feature\u001b[0m\u001b[0;34m)\u001b[0m\u001b[0;34m,\u001b[0m \u001b[0mnp\u001b[0m\u001b[0;34m.\u001b[0m\u001b[0mdouble\u001b[0m\u001b[0;34m)\u001b[0m\u001b[0;34m\u001b[0m\u001b[0m\n\u001b[1;32m    248\u001b[0m         \u001b[0;32mif\u001b[0m \u001b[0mignore_zeros\u001b[0m\u001b[0;34m:\u001b[0m\u001b[0;34m\u001b[0m\u001b[0m\n",
      "\u001b[0;32m~/anaconda3/lib/python3.6/site-packages/mahotas/features/texture.py\u001b[0m in \u001b[0;36mall_cmatrices\u001b[0;34m()\u001b[0m\n\u001b[1;32m    137\u001b[0m     \u001b[0;32mdef\u001b[0m \u001b[0mall_cmatrices\u001b[0m\u001b[0;34m(\u001b[0m\u001b[0;34m)\u001b[0m\u001b[0;34m:\u001b[0m\u001b[0;34m\u001b[0m\u001b[0m\n\u001b[1;32m    138\u001b[0m         \u001b[0;32mfor\u001b[0m \u001b[0mdir\u001b[0m \u001b[0;32min\u001b[0m \u001b[0mrange\u001b[0m\u001b[0;34m(\u001b[0m\u001b[0mnr_dirs\u001b[0m\u001b[0;34m)\u001b[0m\u001b[0;34m:\u001b[0m\u001b[0;34m\u001b[0m\u001b[0m\n\u001b[0;32m--> 139\u001b[0;31m             \u001b[0mcooccurence\u001b[0m\u001b[0;34m(\u001b[0m\u001b[0mf\u001b[0m\u001b[0;34m,\u001b[0m \u001b[0mdir\u001b[0m\u001b[0;34m,\u001b[0m \u001b[0mcmat\u001b[0m\u001b[0;34m,\u001b[0m \u001b[0msymmetric\u001b[0m\u001b[0;34m=\u001b[0m\u001b[0;32mTrue\u001b[0m\u001b[0;34m,\u001b[0m \u001b[0mdistance\u001b[0m\u001b[0;34m=\u001b[0m\u001b[0mdistance\u001b[0m\u001b[0;34m)\u001b[0m\u001b[0;34m\u001b[0m\u001b[0m\n\u001b[0m\u001b[1;32m    140\u001b[0m             \u001b[0;32myield\u001b[0m \u001b[0mcmat\u001b[0m\u001b[0;34m\u001b[0m\u001b[0m\n\u001b[1;32m    141\u001b[0m     return haralick_features(all_cmatrices(),\n",
      "\u001b[0;32m~/anaconda3/lib/python3.6/site-packages/mahotas/features/texture.py\u001b[0m in \u001b[0;36mcooccurence\u001b[0;34m(f, direction, output, symmetric, distance)\u001b[0m\n\u001b[1;32m    450\u001b[0m         \u001b[0my\u001b[0m\u001b[0;34m,\u001b[0m \u001b[0mx\u001b[0m\u001b[0;34m,\u001b[0m \u001b[0mz\u001b[0m \u001b[0;34m=\u001b[0m \u001b[0mtuple\u001b[0m\u001b[0;34m(\u001b[0m\u001b[0mdistance\u001b[0m \u001b[0;34m*\u001b[0m \u001b[0mi\u001b[0m \u001b[0;32mfor\u001b[0m \u001b[0mi\u001b[0m \u001b[0;32min\u001b[0m \u001b[0m_3d_deltas\u001b[0m\u001b[0;34m[\u001b[0m\u001b[0mdirection\u001b[0m\u001b[0;34m]\u001b[0m\u001b[0;34m)\u001b[0m\u001b[0;34m\u001b[0m\u001b[0m\n\u001b[1;32m    451\u001b[0m         \u001b[0mBc\u001b[0m\u001b[0;34m[\u001b[0m\u001b[0my\u001b[0m \u001b[0;34m+\u001b[0m \u001b[0mdistance\u001b[0m\u001b[0;34m,\u001b[0m \u001b[0mx\u001b[0m \u001b[0;34m+\u001b[0m \u001b[0mdistance\u001b[0m\u001b[0;34m,\u001b[0m \u001b[0mz\u001b[0m \u001b[0;34m+\u001b[0m \u001b[0mdistance\u001b[0m\u001b[0;34m]\u001b[0m \u001b[0;34m=\u001b[0m \u001b[0;36m1\u001b[0m\u001b[0;34m\u001b[0m\u001b[0m\n\u001b[0;32m--> 452\u001b[0;31m     \u001b[0m_texture\u001b[0m\u001b[0;34m.\u001b[0m\u001b[0mcooccurence\u001b[0m\u001b[0;34m(\u001b[0m\u001b[0mf\u001b[0m\u001b[0;34m,\u001b[0m \u001b[0moutput\u001b[0m\u001b[0;34m,\u001b[0m \u001b[0mBc\u001b[0m\u001b[0;34m,\u001b[0m \u001b[0msymmetric\u001b[0m\u001b[0;34m)\u001b[0m\u001b[0;34m\u001b[0m\u001b[0m\n\u001b[0m\u001b[1;32m    453\u001b[0m     \u001b[0;32mreturn\u001b[0m \u001b[0moutput\u001b[0m\u001b[0;34m\u001b[0m\u001b[0m\n\u001b[1;32m    454\u001b[0m \u001b[0;34m\u001b[0m\u001b[0m\n",
      "\u001b[0;31mKeyboardInterrupt\u001b[0m: "
     ]
    }
   ],
   "source": [
    "#cropped images\n",
    "\n",
    "import mahotas as mh\n",
    "\n",
    "x=labels_df.groupby('patient_id')['image file path'].unique()[19]\n",
    "loc=data_dir+'/'+x[0]\n",
    "redf=pdicom.read_file(loc[:])\n",
    "img=((redf.pixel_array/65535)*255).astype(np.uint8)\n",
    "\n",
    "print(mh.features.haralick(img).mean(0))\n",
    "img=redf.pixel_array\n",
    "print(mh.features.haralick(img).mean(0))\n"
   ]
  },
  {
   "cell_type": "code",
   "execution_count": 16,
   "metadata": {
    "scrolled": false
   },
   "outputs": [
    {
     "name": "stdout",
     "output_type": "stream",
     "text": [
      "255 148\n"
     ]
    },
    {
     "data": {
      "image/png": "[encoded data removed]",
      "text/plain": [
       "<matplotlib.figure.Figure at 0x1c34b659e8>"
      ]
     },
     "metadata": {},
     "output_type": "display_data"
    }
   ],
   "source": [
    "import mahotas as mh\n",
    "pat=10\n",
    "x=labels_df.groupby('patient_id')['image file path'].unique()[pat]\n",
    "y=labels_df.groupby('patient_id')['cropped image file path'].unique()[pat]\n",
    "z=labels_df.groupby('patient_id')['ROI mask file path'].unique()[pat]\n",
    "loc1=data_dir+'/'+x[0]\n",
    "loc2=data_dir+'/'+y[0]\n",
    "loc3=data_dir+'/'+z[0]\n",
    "i1=pdicom.read_file(loc1[:])\n",
    "i2=pdicom.read_file(loc2[:-1])\n",
    "i3=pdicom.read_file(loc3[:])\n",
    "#print(i1,'\\n')\n",
    "#print(i2,'\\n')\n",
    "#print(i3,'\\n')\n",
    "img1=i1.pixel_array\n",
    "img2=i2.pixel_array\n",
    "img3=i3.pixel_array\n",
    "img4=((img3/65535)*255).astype(np.uint8)\n",
    "\n",
    "# ((pixel – min) / (max – min))*255\n",
    "mx=img4.max()\n",
    "mn=img4.min()\n",
    "print(mx,mn)\n",
    "img4=((img4-mn)/(mx-mn))*255\n",
    "\n",
    "kernel=np.ones((5,5),np.float32)/25\n",
    "dilation=cv2.dilate(img4,kernel,iterations=1)\n",
    "#dst=cv2.filter2D(dilation,-1,kernel)\n",
    "\n",
    "plt.subplot(141).imshow(img1,cmap=plt.cm.bone)\n",
    "plt.subplot(142).imshow(img2,cmap=plt.cm.bone)\n",
    "plt.subplot(143).imshow(img3,cmap=plt.cm.bone)\n",
    "#img4=cv2.resize(img1,None,fx=0.25, fy=.25)\n",
    "\n",
    "plt.subplot(144).imshow(dilation,cmap=plt.cm.bone)\n",
    "plt.show()"
   ]
  },
  {
   "cell_type": "code",
   "execution_count": 23,
   "metadata": {},
   "outputs": [
    {
     "data": {
      "text/plain": [
       "'[  2.47427627e-01   9.39696232e+00   9.98748162e-01   3.75460055e+03\\n   6.97435735e-01   9.62242458e+01   1.50090052e+04   5.05213933e+00\\n   6.23526174e+00   1.52376333e-03   1.96511715e+00  -6.29075092e-01\\n   9.98328112e-01] =>1/2\\n\\n[  2.46762020e-01   2.53850976e+01   9.96603323e-01   3.73942522e+03\\n   6.59817510e-01   9.60958337e+01   1.49323158e+04   5.06199936e+00\\n   6.46313755e+00   1.39633891e-03   2.23994539e+00  -5.79466160e-01\\n   9.97410027e-01] =>1/4 \\n'"
      ]
     },
     "execution_count": 23,
     "metadata": {},
     "output_type": "execute_result"
    }
   ],
   "source": [
    "'''[  2.47427627e-01   9.39696232e+00   9.98748162e-01   3.75460055e+03\n",
    "   6.97435735e-01   9.62242458e+01   1.50090052e+04   5.05213933e+00\n",
    "   6.23526174e+00   1.52376333e-03   1.96511715e+00  -6.29075092e-01\n",
    "   9.98328112e-01] =>1/2\n",
    "\n",
    "[  2.46762020e-01   2.53850976e+01   9.96603323e-01   3.73942522e+03\n",
    "   6.59817510e-01   9.60958337e+01   1.49323158e+04   5.06199936e+00\n",
    "   6.46313755e+00   1.39633891e-03   2.23994539e+00  -5.79466160e-01\n",
    "   9.97410027e-01] =>1/4 \n",
    "'''\n"
   ]
  },
  {
   "cell_type": "code",
   "execution_count": 5,
   "metadata": {},
   "outputs": [
    {
     "name": "stdout",
     "output_type": "stream",
     "text": [
      "[  4.74456585e-01   1.12935688e+01   9.96041390e-01   1.42661364e+03\n",
      "   7.83168783e-01   4.41903384e+01   5.69516099e+03   3.26647527e+00\n",
      "   4.15239647e+00   2.56533899e-03   1.63043593e+00  -5.87541862e-01\n",
      "   9.84053158e-01]\n",
      "[  2.77737464e-01   3.68473533e+01   9.92689436e-01   2.52304300e+03\n",
      "   6.66070127e-01   8.36997838e+01   1.00553246e+04   4.60672788e+00\n",
      "   5.99286795e+00   1.42436883e-03   2.21030515e+00  -5.46729901e-01\n",
      "   9.94460998e-01]\n",
      "[  3.02942396e-01   1.72007688e+01   9.97496352e-01   3.43734879e+03\n",
      "   6.82608524e-01   9.13840078e+01   1.37321944e+04   4.64629379e+00\n",
      "   5.95658632e+00   1.50863067e-03   2.13391835e+00  -5.77081824e-01\n",
      "   9.95990891e-01]\n",
      "[  3.09420329e-01   2.16540518e+01   9.98174474e-01   5.93249925e+03\n",
      "   7.03080769e-01   1.13033400e+02   2.37083429e+04   4.81137397e+00\n",
      "   6.05597118e+00   1.61251708e-03   2.07211269e+00  -6.10380509e-01\n",
      "   9.97528104e-01]\n",
      "[  2.85562884e-01   1.70731003e+01   9.97610137e-01   3.57390729e+03\n",
      "   6.85940241e-01   8.93163128e+01   1.42785561e+04   4.69626515e+00\n",
      "   5.99226670e+00   1.52784154e-03   2.12732121e+00  -5.81165332e-01\n",
      "   9.96272900e-01]\n",
      "[  1.97690621e-01   2.43348489e+01   9.98579460e-01   8.56676311e+03\n",
      "   6.40723592e-01   1.79007549e+02   3.42427176e+04   5.65232489e+00\n",
      "   7.14088390e+00   1.28085232e-03   2.34918261e+00  -6.00599379e-01\n",
      "   9.98896981e-01]\n",
      "[  4.56709057e-01   1.46333743e+01   9.96471468e-01   2.07761338e+03\n",
      "   7.76796070e-01   5.34879869e+01   8.29582014e+03   3.49623599e+00\n",
      "   4.41546085e+00   2.04944616e-03   1.68569738e+00  -5.99546115e-01\n",
      "   9.88481217e-01]\n",
      "[  2.46762020e-01   2.53850976e+01   9.96603323e-01   3.73942522e+03\n",
      "   6.59817510e-01   9.60958337e+01   1.49323158e+04   5.06199936e+00\n",
      "   6.46313755e+00   1.39633891e-03   2.23994539e+00  -5.79466160e-01\n",
      "   9.97410027e-01]\n",
      "[  6.86636574e-02   1.36201544e+01   9.98672399e-01   5.13116227e+03\n",
      "   5.19443949e-01   1.31098305e+02   2.05110289e+04   6.62973199e+00\n",
      "   8.36979980e+00   8.59132111e-04   2.53279761e+00  -5.46932792e-01\n",
      "   9.99066420e-01]\n",
      "[  2.41291268e-01   1.28941520e+01   9.98434981e-01   4.11986526e+03\n",
      "   6.41680052e-01   1.17849196e+02   1.64665669e+04   4.84045377e+00\n",
      "   6.31467989e+00   1.30508646e-03   2.29165032e+00  -5.39326777e-01\n",
      "   9.95237788e-01]\n"
     ]
    }
   ],
   "source": [
    "import mahotas as mh\n",
    "pat=10\n",
    "\n",
    "for i in range(pat):\n",
    "    x=labels_df.groupby('patient_id')['image file path'].unique()[i]\n",
    "    loc1=data_dir+'/'+x[0]\n",
    "    i1=pdicom.read_file(loc1[:])\n",
    "    img1=i1.pixel_array\n",
    "    img4=cv2.resize(img1,None,fx=0.25, fy=.25)\n",
    "    img1=((img4/65535)*255).astype(np.uint8)\n",
    "    print(mh.features.haralick(img1).mean(0))\n"
   ]
  },
  {
   "cell_type": "code",
   "execution_count": 78,
   "metadata": {
    "scrolled": false
   },
   "outputs": [
    {
     "data": {
      "text/plain": [
       "259"
      ]
     },
     "execution_count": 78,
     "metadata": {},
     "output_type": "execute_result"
    }
   ],
   "source": [
    "inp=labels_df[['left or right breast','image view','pathology','ROI mask file path']][labels_df['pathology']!='BENIGN_WITHOUT_CALLBACK']\n",
    "def ff(x):\n",
    "    loc=data_dir+'/'+x\n",
    "    img=pdicom.read_file(loc)\n",
    "    imgpx=((img.pixel_array/65535)*255).astype(np.uint8)\n",
    "    return(mh.features.haralick(imgpx).mean(0))\n",
    "\n",
    "res=inp.loc['P_00038':'P_01538']\n",
    "#inp.shape[0]\n",
    "#print(res)\n",
    "#res['hr'] = res['ROI mask file path'].map(ff)\n",
    "#$res\n",
    "#plt.imshow(imgpx,cmap=plt.cm.bone)\n"
   ]
  }
 ],
 "metadata": {
  "kernelspec": {
   "display_name": "Python 3",
   "language": "python",
   "name": "python3"
  },
  "language_info": {
   "codemirror_mode": {
    "name": "ipython",
    "version": 3
   },
   "file_extension": ".py",
   "mimetype": "text/x-python",
   "name": "python",
   "nbconvert_exporter": "python",
   "pygments_lexer": "ipython3",
   "version": "3.6.3"
  }
 },
 "nbformat": 4,
 "nbformat_minor": 2
}
