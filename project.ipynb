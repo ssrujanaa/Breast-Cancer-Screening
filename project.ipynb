{
  "nbformat": 4,
  "nbformat_minor": 0,
  "metadata": {
    "colab": {
      "name": "project.ipynb",
      "provenance": []
    },
    "kernelspec": {
      "name": "python3",
      "display_name": "Python 3"
    },
    "accelerator": "GPU"
  },
  "cells": [
    {
      "cell_type": "code",
      "metadata": {
        "id": "poZVzcsv3AZe",
        "colab_type": "code",
        "colab": {}
      },
      "source": [
        "!apt-get install -y -qq software-properties-common python-software-properties module-init-tools\n",
        "!add-apt-repository -y ppa:alessandro-strada/ppa 2>&1 > /dev/null\n",
        "!apt-get update -qq 2>&1 > /dev/null\n",
        "!apt-get -y install -qq google-drive-ocamlfuse fuse"
      ],
      "execution_count": null,
      "outputs": []
    },
    {
      "cell_type": "code",
      "metadata": {
        "id": "7m__fX8V3Cgm",
        "colab_type": "code",
        "colab": {}
      },
      "source": [
        "from google.colab import auth\n",
        "auth.authenticate_user()"
      ],
      "execution_count": null,
      "outputs": []
    },
    {
      "cell_type": "code",
      "metadata": {
        "id": "kjV9cp8C3W3J",
        "colab_type": "code",
        "colab": {
          "base_uri": "https://localhost:8080/",
          "height": 105
        },
        "outputId": "d03edb3d-9a2e-456c-beed-315e68006376"
      },
      "source": [
        "# Generate creds for the Drive FUSE library.\n",
        "from oauth2client.client import GoogleCredentials\n",
        "creds = GoogleCredentials.get_application_default()\n",
        "import getpass\n",
        "!google-drive-ocamlfuse -headless -id={creds.client_id} -secret={creds.client_secret} < /dev/null 2>&1 | grep URL\n",
        "vcode = getpass.getpass()\n",
        "!echo {vcode} | google-drive-ocamlfuse -headless -id={creds.client_id} -secret={creds.client_secret}"
      ],
      "execution_count": null,
      "outputs": [
        {
          "output_type": "stream",
          "text": [
            "Please, open the following URL in a web browser: https://accounts.google.com/o/oauth2/auth?client_id=32555940559.apps.googleusercontent.com&redirect_uri=urn%3Aietf%3Awg%3Aoauth%3A2.0%3Aoob&scope=https%3A%2F%2Fwww.googleapis.com%2Fauth%2Fdrive&response_type=code&access_type=offline&approval_prompt=force\r\n",
            "··········\n",
            "Please, open the following URL in a web browser: https://accounts.google.com/o/oauth2/auth?client_id=32555940559.apps.googleusercontent.com&redirect_uri=urn%3Aietf%3Awg%3Aoauth%3A2.0%3Aoob&scope=https%3A%2F%2Fwww.googleapis.com%2Fauth%2Fdrive&response_type=code&access_type=offline&approval_prompt=force\n",
            "Please enter the verification code: Access token retrieved correctly.\n"
          ],
          "name": "stdout"
        }
      ]
    },
    {
      "cell_type": "code",
      "metadata": {
        "id": "O4Pxbfhp3knq",
        "colab_type": "code",
        "colab": {
          "base_uri": "https://localhost:8080/",
          "height": 34
        },
        "outputId": "24892b85-8df5-4504-c7d6-005f44085b8b"
      },
      "source": [
        "# Create a directory and mount Google Drive using that directory.\n",
        "!mkdir -p drive\n",
        "!google-drive-ocamlfuse drive\n",
        "\n",
        "print ('Files in Drive:')\n"
      ],
      "execution_count": null,
      "outputs": [
        {
          "output_type": "stream",
          "text": [
            "Files in Drive:\n"
          ],
          "name": "stdout"
        }
      ]
    },
    {
      "cell_type": "code",
      "metadata": {
        "id": "p1qZv6k035IW",
        "colab_type": "code",
        "colab": {
          "base_uri": "https://localhost:8080/",
          "height": 51
        },
        "outputId": "e42aeb9d-4436-4138-93f2-a2bbec7bf705"
      },
      "source": [
        "cd drive/Finalproject"
      ],
      "execution_count": null,
      "outputs": [
        {
          "output_type": "stream",
          "text": [
            "[Errno 2] No such file or directory: 'drive/Finalproject'\n",
            "/content\n"
          ],
          "name": "stdout"
        }
      ]
    },
    {
      "cell_type": "code",
      "metadata": {
        "id": "yyWC0ylg4Hl_",
        "colab_type": "code",
        "colab": {
          "base_uri": "https://localhost:8080/",
          "height": 51
        },
        "outputId": "3d241ced-f83a-432c-f67c-b6c052a9003c"
      },
      "source": [
        "ls"
      ],
      "execution_count": null,
      "outputs": [
        {
          "output_type": "stream",
          "text": [
            "\u001b[0m\u001b[01;34mCalc-Test_P_00038_RIGHT_CC_1\u001b[0m/  modelfrom11th.h5  my_model.h5  try.npy\r\n",
            "\u001b[01;34mdrive\u001b[0m/                         modelfrom7th.h5   newcsv.pkl\r\n"
          ],
          "name": "stdout"
        }
      ]
    },
    {
      "cell_type": "code",
      "metadata": {
        "id": "abyppjbMyemH",
        "colab_type": "code",
        "colab": {}
      },
      "source": [
        ""
      ],
      "execution_count": null,
      "outputs": []
    },
    {
      "cell_type": "code",
      "metadata": {
        "id": "hwFBe6KA5LjD",
        "colab_type": "code",
        "colab": {}
      },
      "source": [
        "import pandas as pd\n",
        "newcsv=pd.read_pickle(\"newcsv.pkl\") # read the csv\n",
        "req_content=newcsv[['pathology',\"pixel_array\"]]  # keep only the required content\n",
        "req_content=req_content[req_content['pathology']!='BENIGN_WITHOUT_CALLBACK']"
      ],
      "execution_count": null,
      "outputs": []
    },
    {
      "cell_type": "code",
      "metadata": {
        "id": "vWE-tRsH5pcO",
        "colab_type": "code",
        "colab": {}
      },
      "source": [
        ""
      ],
      "execution_count": null,
      "outputs": []
    },
    {
      "cell_type": "code",
      "metadata": {
        "id": "7Csa0K2b6E-f",
        "colab_type": "code",
        "colab": {}
      },
      "source": [
        "d = {'BENIGN': 0, 'MALIGNANT': 1}                        # Map the labels to 0 and 1\n",
        "req_content['pathology']=req_content['pathology'].map(d)"
      ],
      "execution_count": null,
      "outputs": []
    },
    {
      "cell_type": "code",
      "metadata": {
        "id": "_e5SLfiB6HsX",
        "colab_type": "code",
        "colab": {
          "base_uri": "https://localhost:8080/",
          "height": 51
        },
        "outputId": "61c31d57-5b57-459e-f9c3-caf63dedcc06"
      },
      "source": [
        "from numpy import array\n",
        "res_m=req_content[req_content['pathology']== 1]               #    Here we split the dataset equally\n",
        "res_b=req_content[req_content['pathology']==0]                #\n",
        "                                                              #\n",
        "train_m=res_m.sample(frac=0.85,random_state=200)              #\n",
        "train_b=res_b.sample(frac=0.85,random_state=200)\n",
        "\n",
        "test_m=res_m.drop(train_m.index)\n",
        "test_b=res_b.drop(train_b.index)\n",
        "\n",
        "train=pd.concat([train_m,train_b]).sample(frac=1,random_state=19)\n",
        "test=pd.concat([test_m,test_b]).sample(frac=1,random_state=19)\n",
        "\n",
        "train_images=array((train[\"pixel_array\"]).tolist())         # first convert the series to list \n",
        "test_images=array(test[\"pixel_array\"].tolist())             # and then convert it into a numpy array\n",
        "\n",
        "train_labels=train[\"pathology\"].tolist()                      # \n",
        "test_labels=test[\"pathology\"].tolist()                        #\n",
        "\n",
        "import skimage.color as color\n",
        "train_images=color.gray2rgb(train_images)                 # convert from grayscale to color\n",
        "test_images=color.gray2rgb(test_images)                   # so as to feed it to the neural network \n",
        "\n",
        "train_images = train_images.reshape(train_images.shape[0], 224, 224, 3) # reshape the array \n",
        "test_images = test_images.reshape(test_images.shape[0], 224, 224, 3)  # (this is the format in \n",
        "                                                                      # which keras accepts data)\n",
        "#train_images = array(train_images)\n",
        "\n",
        "train_images =train_images.astype('float32')\n",
        "test_images= test_images.astype('float32')\n",
        "\n",
        "train_images/=255          #  Pixel normalization (important)\n",
        "test_images/=255           #  \n",
        "print(len(test))\n",
        "print(len(train))"
      ],
      "execution_count": null,
      "outputs": [
        {
          "output_type": "stream",
          "text": [
            "799\n",
            "4525\n"
          ],
          "name": "stdout"
        }
      ]
    },
    {
      "cell_type": "code",
      "metadata": {
        "id": "5EBDdcKgQvhU",
        "colab_type": "code",
        "colab": {
          "base_uri": "https://localhost:8080/",
          "height": 34
        },
        "outputId": "93f62aa7-0ef1-4c67-9ac6-74ccb09167dd"
      },
      "source": [
        "a=np.array([0,9])\n",
        "a[np.newaxis].shape"
      ],
      "execution_count": null,
      "outputs": [
        {
          "output_type": "execute_result",
          "data": {
            "text/plain": [
              "(1, 2)"
            ]
          },
          "metadata": {
            "tags": []
          },
          "execution_count": 33
        }
      ]
    },
    {
      "cell_type": "code",
      "metadata": {
        "id": "623NnNoI_Smh",
        "colab_type": "code",
        "colab": {
          "base_uri": "https://localhost:8080/",
          "height": 214
        },
        "outputId": "31767261-a3fb-4e5f-d1d1-c1019e44d612"
      },
      "source": [
        "#from sklearn.utils import class_weight\n",
        "#class_weight = class_weight.compute_class_weight('balanced',\n",
        "#                                                 np.unique(train_labels),\n",
        "#                                                 train_labels)"
      ],
      "execution_count": null,
      "outputs": [
        {
          "output_type": "error",
          "ename": "NameError",
          "evalue": "ignored",
          "traceback": [
            "\u001b[0;31m---------------------------------------------------------------------------\u001b[0m",
            "\u001b[0;31mNameError\u001b[0m                                 Traceback (most recent call last)",
            "\u001b[0;32m<ipython-input-14-5914b03b8a50>\u001b[0m in \u001b[0;36m<module>\u001b[0;34m()\u001b[0m\n\u001b[1;32m      1\u001b[0m \u001b[0;32mfrom\u001b[0m \u001b[0msklearn\u001b[0m\u001b[0;34m.\u001b[0m\u001b[0mutils\u001b[0m \u001b[0;32mimport\u001b[0m \u001b[0mclass_weight\u001b[0m\u001b[0;34m\u001b[0m\u001b[0m\n\u001b[1;32m      2\u001b[0m class_weight = class_weight.compute_class_weight('balanced',\n\u001b[0;32m----> 3\u001b[0;31m                                                  \u001b[0mnp\u001b[0m\u001b[0;34m.\u001b[0m\u001b[0munique\u001b[0m\u001b[0;34m(\u001b[0m\u001b[0mtrain_labels\u001b[0m\u001b[0;34m)\u001b[0m\u001b[0;34m,\u001b[0m\u001b[0;34m\u001b[0m\u001b[0m\n\u001b[0m\u001b[1;32m      4\u001b[0m                                                  train_labels)\n",
            "\u001b[0;31mNameError\u001b[0m: name 'np' is not defined"
          ]
        }
      ]
    },
    {
      "cell_type": "code",
      "metadata": {
        "id": "ENQtwLxK6K9G",
        "colab_type": "code",
        "colab": {
          "base_uri": "https://localhost:8080/",
          "height": 34
        },
        "outputId": "8096c482-46f3-45f1-f314-28e11b56eb15"
      },
      "source": [
        "import numpy as np\n",
        "from keras import layers\n",
        "from keras.layers import Input,Dense,BatchNormalization,Flatten,Dropout,GlobalAveragePooling2D\n",
        "from keras.models import Model,load_model\n",
        "from keras.utils import layer_utils\n",
        "from keras.optimizers import Adam\n",
        "from keras.callbacks import ModelCheckpoint\n",
        "from keras.callbacks import EarlyStopping\n",
        "import keras.backend as K\n",
        "from keras.applications.inception_v3 import InceptionV3"
      ],
      "execution_count": null,
      "outputs": [
        {
          "output_type": "stream",
          "text": [
            "Using TensorFlow backend.\n"
          ],
          "name": "stderr"
        }
      ]
    },
    {
      "cell_type": "code",
      "metadata": {
        "id": "ULmdZ-a26RpJ",
        "colab_type": "code",
        "colab": {}
      },
      "source": [
        "epochs=3"
      ],
      "execution_count": null,
      "outputs": []
    },
    {
      "cell_type": "code",
      "metadata": {
        "id": "Wyp6-v5s6Ury",
        "colab_type": "code",
        "colab": {}
      },
      "source": [
        "base_model = InceptionV3(weights='imagenet', include_top=False)  #load the inception model\n",
        "                                                                  #without the last FC layer\n",
        "x = base_model.output                                 \n",
        "x = GlobalAveragePooling2D()(x)\n",
        "x = Dense(128,activation='relu')(x)\n",
        "predictions = Dense(1, activation='sigmoid')(x)\n",
        "m = Model(inputs=base_model.input, outputs=predictions)"
      ],
      "execution_count": null,
      "outputs": []
    },
    {
      "cell_type": "code",
      "metadata": {
        "id": "7x8nZJp86alt",
        "colab_type": "code",
        "colab": {}
      },
      "source": [
        "for layer in m.layers[:165]:\n",
        "  layer.trainable = False\n",
        "for layer in m.layers[165:]:\n",
        "  layer.trainable = True"
      ],
      "execution_count": null,
      "outputs": []
    },
    {
      "cell_type": "code",
      "metadata": {
        "id": "gAkqQnYS7x-5",
        "colab_type": "code",
        "colab": {
          "base_uri": "https://localhost:8080/",
          "height": 136
        },
        "outputId": "9be48634-1552-43ed-db9e-1b6ac223ac55"
      },
      "source": [
        "\n",
        "m.compile(loss=\"binary_crossentropy\", optimizer=\"adam\", metrics=[\"accuracy\"])\n",
        "model_info = m.fit(x=train_images, y=train_labels,batch_size=130 , epochs=epochs, \n",
        "                   verbose=1,validation_data=(test_images,test_labels))\n"
      ],
      "execution_count": null,
      "outputs": [
        {
          "output_type": "stream",
          "text": [
            "Train on 4525 samples, validate on 799 samples\n",
            "Epoch 1/3\n",
            "4525/4525 [==============================] - 71s 16ms/step - loss: 0.6996 - acc: 0.5372 - val_loss: 0.6847 - val_acc: 0.5557\n",
            "Epoch 2/3\n",
            "4525/4525 [==============================] - 52s 11ms/step - loss: 0.6115 - acc: 0.6650 - val_loss: 0.7670 - val_acc: 0.5432\n",
            "Epoch 3/3\n",
            "4525/4525 [==============================] - 52s 11ms/step - loss: 0.4014 - acc: 0.8155 - val_loss: 0.7476 - val_acc: 0.5394\n"
          ],
          "name": "stdout"
        }
      ]
    },
    {
      "cell_type": "code",
      "metadata": {
        "id": "5aJu-A8RCFAv",
        "colab_type": "code",
        "colab": {}
      },
      "source": [
        "m= load_model(\"modelfrom11th.h5\")"
      ],
      "execution_count": null,
      "outputs": []
    },
    {
      "cell_type": "code",
      "metadata": {
        "id": "pdZtHdAA6Tdb",
        "colab_type": "code",
        "colab": {}
      },
      "source": [
        "val=m.predict(test_images)"
      ],
      "execution_count": null,
      "outputs": []
    },
    {
      "cell_type": "code",
      "metadata": {
        "id": "c4EYUNIZ7j4f",
        "colab_type": "code",
        "colab": {
          "base_uri": "https://localhost:8080/",
          "height": 102
        },
        "outputId": "b0c0a19c-db94-470e-8616-1fee7bf21c38"
      },
      "source": [
        "x=12\n",
        "print(\"Prediction by our model\")\n",
        "if val[x]<0.5:\n",
        "    k=0\n",
        "    print (\"\\t Benign\")\n",
        "else:\n",
        "    k=1\n",
        "    print (\"\\t Malignant\")\n",
        "\n",
        "print(\"The actual result\")\n",
        "if test_labels[x]==1:\n",
        "    print(\"\\t Malignant\")\n",
        "else:\n",
        "    print(\"\\t Benign\")\n",
        "\n",
        "    \n",
        "if k==test_labels[x]:\n",
        "  print(\"\\t Model got it right\")\n",
        "else:\n",
        "  print(\"\\t Model got it wrong\")"
      ],
      "execution_count": null,
      "outputs": [
        {
          "output_type": "stream",
          "text": [
            "Prediction by our model\n",
            "\t Malignant\n",
            "The actual result\n",
            "\t Malignant\n",
            "\t Model got it right\n"
          ],
          "name": "stdout"
        }
      ]
    },
    {
      "cell_type": "code",
      "metadata": {
        "id": "2nMV6nS3753N",
        "colab_type": "code",
        "colab": {
          "base_uri": "https://localhost:8080/",
          "height": 34
        },
        "outputId": "05232649-d5df-4f8c-f3d3-3ab7bcbb3152"
      },
      "source": [
        "### Use round(x) here instead of the function\n",
        "x=6\n",
        "if val[x]<0.5:\n",
        "    k=0\n",
        "    print (\"\\t Benign\")\n",
        "else:\n",
        "    k=1 \n",
        "    print (\"\\t Malignant\")"
      ],
      "execution_count": null,
      "outputs": [
        {
          "output_type": "stream",
          "text": [
            "\t Malignant\n"
          ],
          "name": "stdout"
        }
      ]
    },
    {
      "cell_type": "code",
      "metadata": {
        "id": "-xZoLVG9EMX7",
        "colab_type": "code",
        "colab": {}
      },
      "source": [
        "bindex=[]                  \n",
        "mindex=[]\n",
        "for x in range(len(val)):   ### Use round(x) here instead of the function\n",
        "  if val[x]<0.5:\n",
        "    bindex.append(x)\n",
        "  else:\n",
        "    mindex.append(x)"
      ],
      "execution_count": null,
      "outputs": []
    },
    {
      "cell_type": "code",
      "metadata": {
        "id": "J-ModZAh7jrh",
        "colab_type": "code",
        "colab": {
          "base_uri": "https://localhost:8080/",
          "height": 34
        },
        "outputId": "6f4a30d6-9196-4eb1-9711-835594061589"
      },
      "source": [
        "test_labels[x]"
      ],
      "execution_count": null,
      "outputs": [
        {
          "output_type": "execute_result",
          "data": {
            "text/plain": [
              "1"
            ]
          },
          "metadata": {
            "tags": []
          },
          "execution_count": 16
        }
      ]
    },
    {
      "cell_type": "code",
      "metadata": {
        "id": "MSONnGvrBjHH",
        "colab_type": "code",
        "colab": {
          "base_uri": "https://localhost:8080/",
          "height": 269
        },
        "outputId": "6309f3f2-5ee3-4cf6-f5ec-c8f59d506e83"
      },
      "source": [
        "%matplotlib inline\n",
        "import matplotlib.pyplot as plt\n",
        "import matplotlib.image as mpimg\n",
        "imgplot = plt.imshow(test_images[8])"
      ],
      "execution_count": null,
      "outputs": [
        {
          "output_type": "display_data",
          "data": {
            "image/png": "[encoded data removed]",
            "text/plain": [
              "<matplotlib.figure.Figure at 0x7f996f91c208>"
            ]
          },
          "metadata": {
            "tags": []
          }
        }
      ]
    },
    {
      "cell_type": "code",
      "metadata": {
        "id": "lZ4SbIxiEnUR",
        "colab_type": "code",
        "colab": {}
      },
      "source": [
        "checked_labels=[0]* array(test_labels)\n",
        "checked_labels[bindex]=0\n",
        "checked_labels[mindex]=1"
      ],
      "execution_count": null,
      "outputs": []
    },
    {
      "cell_type": "code",
      "metadata": {
        "id": "omImzUas8z2Y",
        "colab_type": "code",
        "colab": {}
      },
      "source": [
        "from sklearn.metrics import confusion_matrix\n",
        "conf=confusion_matrix(test_labels , checked_labels)"
      ],
      "execution_count": null,
      "outputs": []
    },
    {
      "cell_type": "code",
      "metadata": {
        "id": "kKNuZ6wl9_EF",
        "colab_type": "code",
        "colab": {}
      },
      "source": [
        "def plot_confusion_matrix(cm,\n",
        "                          target_names,\n",
        "                          title='Confusion matrix',      \n",
        "                          cmap=None,\n",
        "                          normalize=True):\n",
        "  \n",
        "    import matplotlib.pyplot as plt\n",
        "    import numpy as np\n",
        "    import itertools\n",
        "\n",
        "    accuracy = np.trace(cm) / float(np.sum(cm))\n",
        "    misclass = 1 - accuracy\n",
        "\n",
        "    if cmap is None:\n",
        "        cmap = plt.get_cmap('Reds')\n",
        "\n",
        "    plt.figure(figsize=(8, 6))\n",
        "    plt.imshow(cm, interpolation='nearest', cmap=cmap)\n",
        "    plt.title(title)\n",
        "    plt.colorbar()\n",
        "\n",
        "    if target_names is not None:\n",
        "        tick_marks = np.arange(len(target_names))\n",
        "        plt.xticks(tick_marks, target_names, rotation=45)\n",
        "        plt.yticks(tick_marks, target_names)\n",
        "\n",
        "    if normalize:\n",
        "        cm = cm.astype('float') / cm.sum(axis=1)[:, np.newaxis]\n",
        "\n",
        "\n",
        "    thresh = cm.max() / 1.5 if normalize else cm.max() / 2\n",
        "    for i, j in itertools.product(range(cm.shape[0]), range(cm.shape[1])):\n",
        "        if normalize:\n",
        "            plt.text(j, i, \"{:0.4f}\".format(cm[i, j]),\n",
        "                     horizontalalignment=\"center\",\n",
        "                     color=\"white\" if cm[i, j] > thresh else \"black\")\n",
        "        else:\n",
        "            plt.text(j, i, \"{:,}\".format(cm[i, j]),\n",
        "                     horizontalalignment=\"center\",\n",
        "                     color=\"white\" if cm[i, j] > thresh else \"black\")\n",
        "\n",
        "\n",
        "    plt.tight_layout()\n",
        "    plt.ylabel('True label')\n",
        "    plt.xlabel('Predicted label\\naccuracy={:0.4f}; misclass={:0.4f}'.format(accuracy, misclass))\n",
        "    plt.show()"
      ],
      "execution_count": null,
      "outputs": []
    },
    {
      "cell_type": "code",
      "metadata": {
        "id": "2hR8n0FW-C43",
        "colab_type": "code",
        "colab": {
          "base_uri": "https://localhost:8080/",
          "height": 467
        },
        "outputId": "44027460-66c7-404f-98b7-e6728a100520"
      },
      "source": [
        "plot_confusion_matrix(cm = conf, \n",
        "                      normalize = False,\n",
        "                      target_names = ['benign', 'malignant'],\n",
        "                      title        = \"Confusion Matrix\")"
      ],
      "execution_count": null,
      "outputs": [
        {
          "output_type": "display_data",
          "data": {
            "image/png": "[encoded data removed]",
            "text/plain": [
              "<matplotlib.figure.Figure at 0x7f98e6d9d828>"
            ]
          },
          "metadata": {
            "tags": []
          }
        }
      ]
    },
    {
      "cell_type": "code",
      "metadata": {
        "id": "imxx36VK2ShW",
        "colab_type": "code",
        "colab": {
          "base_uri": "https://localhost:8080/",
          "height": 269
        },
        "outputId": "bb1c287e-aa1a-466f-820a-e96ef15945cc"
      },
      "source": [
        "imgplot = plt.imshow(train_images[5])"
      ],
      "execution_count": null,
      "outputs": [
        {
          "output_type": "display_data",
          "data": {
            "image/png": "[encoded data removed]",
            "text/plain": [
              "<matplotlib.figure.Figure at 0x7fb2ff98a5f8>"
            ]
          },
          "metadata": {
            "tags": []
          }
        }
      ]
    },
    {
      "cell_type": "code",
      "metadata": {
        "id": "tBf6ASb08xtx",
        "colab_type": "code",
        "cellView": "code",
        "colab": {
          "base_uri": "https://localhost:8080/",
          "height": 34
        },
        "outputId": "68d0c8c3-c469-42e3-aeb8-f31d10c6408e"
      },
      "source": [
        "#title Default title text\n",
        "\n",
        "test_features.shape"
      ],
      "execution_count": null,
      "outputs": [
        {
          "output_type": "execute_result",
          "data": {
            "text/plain": [
              "(532, 224, 224, 3)"
            ]
          },
          "metadata": {
            "tags": []
          },
          "execution_count": 161
        }
      ]
    },
    {
      "cell_type": "code",
      "metadata": {
        "id": "YgdYvpKlgWSN",
        "colab_type": "code",
        "colab": {}
      },
      "source": [
        "m.save(\"modelfrom11th.h5\")"
      ],
      "execution_count": null,
      "outputs": []
    },
    {
      "cell_type": "code",
      "metadata": {
        "id": "o3Zs5jEFOZs9",
        "colab_type": "code",
        "colab": {
          "base_uri": "https://localhost:8080/",
          "height": 34
        },
        "outputId": "21f63f9f-7c15-4326-9410-2ff36d9b6cc1"
      },
      "source": [
        "len(val)"
      ],
      "execution_count": null,
      "outputs": [
        {
          "output_type": "execute_result",
          "data": {
            "text/plain": [
              "799"
            ]
          },
          "metadata": {
            "tags": []
          },
          "execution_count": 25
        }
      ]
    },
    {
      "cell_type": "code",
      "metadata": {
        "id": "dmTYiym90qvw",
        "colab_type": "code",
        "colab": {}
      },
      "source": [
        "#for x in range(len(val)):\n",
        "#  if val[x]<0.5:\n",
        "#    if (0==test_labels[x]):\n",
        "#      print(x)\n",
        "#  elif val[x] >=0.5:\n",
        "#    if (1==test_labels[x]):\n",
        "#      print(x)\n"
      ],
      "execution_count": null,
      "outputs": []
    },
    {
      "cell_type": "code",
      "metadata": {
        "id": "T7eBwvQ3SacG",
        "colab_type": "code",
        "colab": {
          "base_uri": "https://localhost:8080/",
          "height": 850
        },
        "outputId": "573b06f2-d0ff-43c8-83e5-698933a8265b"
      },
      "source": [
        "import matplotlib.pyplot as plt\n",
        "import pandas as pd # data processing, CSV file I/O (e.g. pd.read_csv)\n",
        "import dicom as pdicom #Read mammogram images stored in DICOM files\n",
        "import cv2\n",
        "\n",
        "def preprocess_image(path):\n",
        "    img=pdicom.read_file(path,force=True)\n",
        "    imgpix=img.pixel_array\n",
        "\n",
        "    # Scaling 16-bit pixel to 8-bits\n",
        "    imgpix=((imgpix/65535)*255).astype(np.uint8)\n",
        "\n",
        "    # Contrast enhancement\n",
        "    imgpix = cv2.equalizeHist(imgpix)\n",
        "    \n",
        "    #dilation\n",
        "    k1 = cv2.getStructuringElement(cv2.MORPH_ELLIPSE, (4, 5))\n",
        "    k4 = cv2.getStructuringElement(cv2.MORPH_ELLIPSE, (5, 7))\n",
        "    imgpix= cv2.dilate(imgpix,k1,iterations = 1)\n",
        "        \n",
        "    # Resizing image to (224,224)\n",
        "    imgpix=cv2.resize(imgpix,(224,224))\n",
        "\n",
        "    return imgpix\n",
        "#m= load_model(\"modelfrom11th.h5\")\n",
        "\n",
        "def add_channels(img):\n",
        "    import skimage.color as color\n",
        "    img=color.gray2rgb(img)   \n",
        "    img =img.astype('float32')\n",
        "    img/=255  \n",
        "    print(img)#  Pixel normalization (important)          #  \n",
        "    return img\n",
        "\n",
        "  \n",
        "  \n",
        "img=preprocess_image(\"000000.dcm\")\n",
        "img=add_channels(img)\n",
        "pred = m.predict(img[np.newaxis])\n"
      ],
      "execution_count": null,
      "outputs": [
        {
          "output_type": "stream",
          "text": [
            "[[[0.         0.         0.        ]\n",
            "  [0.         0.         0.        ]\n",
            "  [0.00392157 0.00392157 0.00392157]\n",
            "  ...\n",
            "  [0.99607843 0.99607843 0.99607843]\n",
            "  [0.99607843 0.99607843 0.99607843]\n",
            "  [1.         1.         1.        ]]\n",
            "\n",
            " [[0.         0.         0.        ]\n",
            "  [0.00392157 0.00392157 0.00392157]\n",
            "  [0.00392157 0.00392157 0.00392157]\n",
            "  ...\n",
            "  [0.99607843 0.99607843 0.99607843]\n",
            "  [0.99607843 0.99607843 0.99607843]\n",
            "  [1.         1.         1.        ]]\n",
            "\n",
            " [[0.         0.         0.        ]\n",
            "  [0.00392157 0.00392157 0.00392157]\n",
            "  [0.00392157 0.00392157 0.00392157]\n",
            "  ...\n",
            "  [0.99215686 0.99215686 0.99215686]\n",
            "  [0.99607843 0.99607843 0.99607843]\n",
            "  [0.99607843 0.99607843 0.99607843]]\n",
            "\n",
            " ...\n",
            "\n",
            " [[0.35686275 0.35686275 0.35686275]\n",
            "  [0.46666667 0.46666667 0.46666667]\n",
            "  [0.49803922 0.49803922 0.49803922]\n",
            "  ...\n",
            "  [0.99215686 0.99215686 0.99215686]\n",
            "  [0.9882353  0.9882353  0.9882353 ]\n",
            "  [0.9882353  0.9882353  0.9882353 ]]\n",
            "\n",
            " [[0.35686275 0.35686275 0.35686275]\n",
            "  [0.4627451  0.4627451  0.4627451 ]\n",
            "  [0.37254903 0.37254903 0.37254903]\n",
            "  ...\n",
            "  [0.9882353  0.9882353  0.9882353 ]\n",
            "  [0.9882353  0.9882353  0.9882353 ]\n",
            "  [0.9882353  0.9882353  0.9882353 ]]\n",
            "\n",
            " [[0.35686275 0.35686275 0.35686275]\n",
            "  [0.33333334 0.33333334 0.33333334]\n",
            "  [0.28627452 0.28627452 0.28627452]\n",
            "  ...\n",
            "  [0.9843137  0.9843137  0.9843137 ]\n",
            "  [0.9882353  0.9882353  0.9882353 ]\n",
            "  [0.98039216 0.98039216 0.98039216]]]\n"
          ],
          "name": "stdout"
        }
      ]
    },
    {
      "cell_type": "code",
      "metadata": {
        "id": "chFbUd76aOum",
        "colab_type": "code",
        "colab": {
          "base_uri": "https://localhost:8080/",
          "height": 34
        },
        "outputId": "a8b4f746-7704-4341-c922-496fb241ca0f"
      },
      "source": [
        "cd Calc-Test_P_00038_RIGHT_CC_1/"
      ],
      "execution_count": null,
      "outputs": [
        {
          "output_type": "stream",
          "text": [
            "/content/drive/Finalproject/Calc-Test_P_00038_RIGHT_CC_1\n"
          ],
          "name": "stdout"
        }
      ]
    },
    {
      "cell_type": "code",
      "metadata": {
        "id": "uXHOBm7SaXEZ",
        "colab_type": "code",
        "colab": {
          "base_uri": "https://localhost:8080/",
          "height": 34
        },
        "outputId": "cdbac36b-a810-4a7e-e6ec-1b6a3f48346a"
      },
      "source": [
        "cd 1.3.6.1.4.1.9590.100.1.2.200764632211227648028305709420627883105/"
      ],
      "execution_count": null,
      "outputs": [
        {
          "output_type": "stream",
          "text": [
            "/content/drive/Finalproject/Calc-Test_P_00038_RIGHT_CC_1/1.3.6.1.4.1.9590.100.1.2.200764632211227648028305709420627883105\n"
          ],
          "name": "stdout"
        }
      ]
    },
    {
      "cell_type": "code",
      "metadata": {
        "id": "rI3CO0bBaZ5e",
        "colab_type": "code",
        "colab": {
          "base_uri": "https://localhost:8080/",
          "height": 54
        },
        "outputId": "142e5b17-44b6-4192-adc0-8ca28f56384c"
      },
      "source": [
        "cd 1.3.6.1.4.1.9590.100.1.2.244876997513875090239564803900035037851/"
      ],
      "execution_count": null,
      "outputs": [
        {
          "output_type": "stream",
          "text": [
            "/content/drive/Finalproject/Calc-Test_P_00038_RIGHT_CC_1/1.3.6.1.4.1.9590.100.1.2.200764632211227648028305709420627883105/1.3.6.1.4.1.9590.100.1.2.244876997513875090239564803900035037851\n"
          ],
          "name": "stdout"
        }
      ]
    },
    {
      "cell_type": "code",
      "metadata": {
        "id": "--MByYlVacKB",
        "colab_type": "code",
        "colab": {
          "base_uri": "https://localhost:8080/",
          "height": 122
        },
        "outputId": "d431d9cc-3f62-4409-c185-fe433023f5d0"
      },
      "source": [
        "!pip install dicom"
      ],
      "execution_count": null,
      "outputs": [
        {
          "output_type": "stream",
          "text": [
            "Collecting dicom\n",
            "\u001b[?25l  Downloading https://files.pythonhosted.org/packages/6c/0e/488becc361f1416f6682a9b9c223eb6a9db2d5d093fb46ea91c762eb6e4a/dicom-0.9.9.post1-py3-none-any.whl (766kB)\n",
            "\u001b[K    100% |████████████████████████████████| 768kB 6.2MB/s \n",
            "\u001b[?25hInstalling collected packages: dicom\n",
            "Successfully installed dicom-0.9.9.post1\n"
          ],
          "name": "stdout"
        }
      ]
    },
    {
      "cell_type": "code",
      "metadata": {
        "id": "hxHRutF9aeXc",
        "colab_type": "code",
        "colab": {
          "base_uri": "https://localhost:8080/",
          "height": 34
        },
        "outputId": "790dc92f-dc93-45d2-afa0-a942c9075a1e"
      },
      "source": [
        "pred"
      ],
      "execution_count": null,
      "outputs": [
        {
          "output_type": "execute_result",
          "data": {
            "text/plain": [
              "array([[0.01877405]], dtype=float32)"
            ]
          },
          "metadata": {
            "tags": []
          },
          "execution_count": 46
        }
      ]
    },
    {
      "cell_type": "code",
      "metadata": {
        "id": "WoAQDPyoa0CF",
        "colab_type": "code",
        "colab": {}
      },
      "source": [
        ""
      ],
      "execution_count": null,
      "outputs": []
    }
  ]
}